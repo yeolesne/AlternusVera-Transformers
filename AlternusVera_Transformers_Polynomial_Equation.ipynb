{
  "nbformat": 4,
  "nbformat_minor": 0,
  "metadata": {
    "colab": {
      "name": "AlternusVera_Transformers_Polynomial_Equation.ipynb",
      "provenance": [],
      "collapsed_sections": [],
      "toc_visible": true
    },
    "kernelspec": {
      "name": "python3",
      "display_name": "Python 3"
    }
  },
  "cells": [
    {
      "cell_type": "markdown",
      "metadata": {
        "id": "dAUMgVeDBMvM",
        "colab_type": "text"
      },
      "source": [
        "# **Polynomial Equation**"
      ]
    },
    {
      "cell_type": "markdown",
      "metadata": {
        "id": "2LN1f22lBmrf",
        "colab_type": "text"
      },
      "source": [
        "## **Import the required libraries**"
      ]
    },
    {
      "cell_type": "code",
      "metadata": {
        "id": "Wcl6e9b0FDoN",
        "colab_type": "code",
        "outputId": "a4ccdc00-c764-45b4-9479-79b1dd5fadda",
        "colab": {
          "base_uri": "https://localhost:8080/",
          "height": 464
        }
      },
      "source": [
        "import os\n",
        "import json\n",
        "import string\n",
        "import numpy as np\n",
        "import pandas as pd\n",
        "from pandas.io.json import json_normalize\n",
        "import matplotlib.pyplot as plt\n",
        "import seaborn as sns\n",
        "color = sns.color_palette()\n",
        "\n",
        "!pip install gensim\n",
        "!pip install lightgbm\n",
        "\n",
        "import re\n",
        "import nltk\n",
        "nltk.download('stopwords')\n",
        "from nltk.corpus import stopwords  # stop words are, is, the etc. which are not needed for model\n",
        "from nltk.stem.porter import PorterStemmer\n",
        "from gensim.models import word2vec\n",
        "from sklearn.manifold import TSNE\n",
        "\n",
        "%matplotlib inline\n",
        "\n",
        "from plotly import tools  # to install $ pip install plotly\n",
        "import plotly.offline as py\n",
        "py.init_notebook_mode(connected=True)\n",
        "import plotly.graph_objs as go\n",
        "\n",
        "from sklearn.tree import DecisionTreeClassifier \n",
        "from sklearn import model_selection, preprocessing, metrics, ensemble, naive_bayes, linear_model\n",
        "from sklearn.feature_extraction.text import TfidfVectorizer, CountVectorizer\n",
        "from sklearn.decomposition import TruncatedSVD\n",
        "import lightgbm as lgb # to install $ pip install lightgbm\n",
        "from PIL import Image\n",
        "\n",
        "pd.options.mode.chained_assignment = None\n",
        "pd.options.display.max_columns = 999"
      ],
      "execution_count": 0,
      "outputs": [
        {
          "output_type": "stream",
          "text": [
            "Requirement already satisfied: gensim in /usr/local/lib/python3.6/dist-packages (3.6.0)\n",
            "Requirement already satisfied: scipy>=0.18.1 in /usr/local/lib/python3.6/dist-packages (from gensim) (1.3.3)\n",
            "Requirement already satisfied: six>=1.5.0 in /usr/local/lib/python3.6/dist-packages (from gensim) (1.12.0)\n",
            "Requirement already satisfied: smart-open>=1.2.1 in /usr/local/lib/python3.6/dist-packages (from gensim) (1.9.0)\n",
            "Requirement already satisfied: numpy>=1.11.3 in /usr/local/lib/python3.6/dist-packages (from gensim) (1.17.4)\n",
            "Requirement already satisfied: requests in /usr/local/lib/python3.6/dist-packages (from smart-open>=1.2.1->gensim) (2.21.0)\n",
            "Requirement already satisfied: boto>=2.32 in /usr/local/lib/python3.6/dist-packages (from smart-open>=1.2.1->gensim) (2.49.0)\n",
            "Requirement already satisfied: boto3 in /usr/local/lib/python3.6/dist-packages (from smart-open>=1.2.1->gensim) (1.10.36)\n",
            "Requirement already satisfied: urllib3<1.25,>=1.21.1 in /usr/local/lib/python3.6/dist-packages (from requests->smart-open>=1.2.1->gensim) (1.24.3)\n",
            "Requirement already satisfied: idna<2.9,>=2.5 in /usr/local/lib/python3.6/dist-packages (from requests->smart-open>=1.2.1->gensim) (2.8)\n",
            "Requirement already satisfied: chardet<3.1.0,>=3.0.2 in /usr/local/lib/python3.6/dist-packages (from requests->smart-open>=1.2.1->gensim) (3.0.4)\n",
            "Requirement already satisfied: certifi>=2017.4.17 in /usr/local/lib/python3.6/dist-packages (from requests->smart-open>=1.2.1->gensim) (2019.11.28)\n",
            "Requirement already satisfied: s3transfer<0.3.0,>=0.2.0 in /usr/local/lib/python3.6/dist-packages (from boto3->smart-open>=1.2.1->gensim) (0.2.1)\n",
            "Requirement already satisfied: botocore<1.14.0,>=1.13.36 in /usr/local/lib/python3.6/dist-packages (from boto3->smart-open>=1.2.1->gensim) (1.13.36)\n",
            "Requirement already satisfied: jmespath<1.0.0,>=0.7.1 in /usr/local/lib/python3.6/dist-packages (from boto3->smart-open>=1.2.1->gensim) (0.9.4)\n",
            "Requirement already satisfied: python-dateutil<2.8.1,>=2.1; python_version >= \"2.7\" in /usr/local/lib/python3.6/dist-packages (from botocore<1.14.0,>=1.13.36->boto3->smart-open>=1.2.1->gensim) (2.6.1)\n",
            "Requirement already satisfied: docutils<0.16,>=0.10 in /usr/local/lib/python3.6/dist-packages (from botocore<1.14.0,>=1.13.36->boto3->smart-open>=1.2.1->gensim) (0.15.2)\n",
            "Requirement already satisfied: lightgbm in /usr/local/lib/python3.6/dist-packages (2.2.3)\n",
            "Requirement already satisfied: scikit-learn in /usr/local/lib/python3.6/dist-packages (from lightgbm) (0.21.3)\n",
            "Requirement already satisfied: numpy in /usr/local/lib/python3.6/dist-packages (from lightgbm) (1.17.4)\n",
            "Requirement already satisfied: scipy in /usr/local/lib/python3.6/dist-packages (from lightgbm) (1.3.3)\n",
            "Requirement already satisfied: joblib>=0.11 in /usr/local/lib/python3.6/dist-packages (from scikit-learn->lightgbm) (0.14.1)\n",
            "[nltk_data] Downloading package stopwords to /root/nltk_data...\n",
            "[nltk_data]   Package stopwords is already up-to-date!\n"
          ],
          "name": "stdout"
        },
        {
          "output_type": "display_data",
          "data": {
            "text/html": [
              "        <script type=\"text/javascript\">\n",
              "        window.PlotlyConfig = {MathJaxConfig: 'local'};\n",
              "        if (window.MathJax) {MathJax.Hub.Config({SVG: {font: \"STIX-Web\"}});}\n",
              "        if (typeof require !== 'undefined') {\n",
              "        require.undef(\"plotly\");\n",
              "        requirejs.config({\n",
              "            paths: {\n",
              "                'plotly': ['https://cdn.plot.ly/plotly-latest.min']\n",
              "            }\n",
              "        });\n",
              "        require(['plotly'], function(Plotly) {\n",
              "            window._Plotly = Plotly;\n",
              "        });\n",
              "        }\n",
              "        </script>\n",
              "        "
            ]
          },
          "metadata": {
            "tags": []
          }
        }
      ]
    },
    {
      "cell_type": "markdown",
      "metadata": {
        "id": "nUVB5Xa4BvDr",
        "colab_type": "text"
      },
      "source": [
        "## **Mount the shared drive on Google Colab**"
      ]
    },
    {
      "cell_type": "code",
      "metadata": {
        "id": "kFJXVFGlEXwn",
        "colab_type": "code",
        "outputId": "4eb32d7f-336a-4849-de40-66003081718c",
        "colab": {
          "base_uri": "https://localhost:8080/",
          "height": 35
        }
      },
      "source": [
        "from google.colab import drive\n",
        "drive.mount('/content/drive')"
      ],
      "execution_count": 0,
      "outputs": [
        {
          "output_type": "stream",
          "text": [
            "Drive already mounted at /content/drive; to attempt to forcibly remount, call drive.mount(\"/content/drive\", force_remount=True).\n"
          ],
          "name": "stdout"
        }
      ]
    },
    {
      "cell_type": "markdown",
      "metadata": {
        "id": "teE7PVJMBz5D",
        "colab_type": "text"
      },
      "source": [
        "## **Suppress Warnings**"
      ]
    },
    {
      "cell_type": "code",
      "metadata": {
        "id": "LrY9WAf_FVFh",
        "colab_type": "code",
        "colab": {}
      },
      "source": [
        "# ignoring warnings to remove clutter \n",
        "import warnings\n",
        "warnings.filterwarnings('ignore')"
      ],
      "execution_count": 0,
      "outputs": []
    },
    {
      "cell_type": "markdown",
      "metadata": {
        "id": "PJz7fKtqB6nY",
        "colab_type": "text"
      },
      "source": [
        "## **Load the data for base dataset and features for each team member**"
      ]
    },
    {
      "cell_type": "markdown",
      "metadata": {
        "id": "VVCJgEjzKCzj",
        "colab_type": "text"
      },
      "source": [
        "**Load the features**"
      ]
    },
    {
      "cell_type": "code",
      "metadata": {
        "id": "T3MXtoTBFiin",
        "colab_type": "code",
        "colab": {}
      },
      "source": [
        "df_credibility_fact_checks = pd.read_csv(\"/content/drive/My Drive/AlternusVeraDataSets2019/Transformers/Snehal/Credibilty/Dataset/statement_score.csv\")\n",
        "df_controversy = pd.read_csv(\"/content/drive/My Drive/AlternusVeraDataSets2019/Transformers/Amrutha/Controversy_Speaker_Factors/Datasets/output_contro.csv\")\n",
        "df_context = pd.read_csv(\"/content/drive/My Drive/AlternusVeraDataSets2019/Transformers/Poorva/Context/enriched_data/train_contextfeature.csv\")\n",
        "df_sourceCredibility = pd.read_csv(\"/content/drive/My Drive/AlternusVeraDataSets2019/Transformers/Anand/source_credibility.csv\")"
      ],
      "execution_count": 0,
      "outputs": []
    },
    {
      "cell_type": "markdown",
      "metadata": {
        "id": "HYcpG1LhKFRX",
        "colab_type": "text"
      },
      "source": [
        "**Load the Liar Liar dataset**"
      ]
    },
    {
      "cell_type": "code",
      "metadata": {
        "id": "21-fsZwAItdo",
        "colab_type": "code",
        "outputId": "6940446f-5222-4c73-b13e-91e5c8a0c0f3",
        "colab": {
          "base_uri": "https://localhost:8080/",
          "height": 619
        }
      },
      "source": [
        "df = pd.read_csv(\"/content/drive/My Drive/AlternusVeraDataSets2019/Transformers/Snehal/Credibilty/Dataset/train.tsv\", sep='\\t', header = None)\n",
        "\n",
        "#Adding the column names in test dataset\n",
        "columns = ['id', 'label', 'statement', 'subjects', 'speaker',\n",
        "         'speaker_job', 'state', 'party', 'barely_true_counts',\n",
        "         'false_counts', 'half_true_counts', 'mostly_true_counts', 'pants_on_fire_counts',\n",
        "         'context']\n",
        "df.columns = columns\n",
        "df.head(5)"
      ],
      "execution_count": 0,
      "outputs": [
        {
          "output_type": "execute_result",
          "data": {
            "text/html": [
              "<div>\n",
              "<style scoped>\n",
              "    .dataframe tbody tr th:only-of-type {\n",
              "        vertical-align: middle;\n",
              "    }\n",
              "\n",
              "    .dataframe tbody tr th {\n",
              "        vertical-align: top;\n",
              "    }\n",
              "\n",
              "    .dataframe thead th {\n",
              "        text-align: right;\n",
              "    }\n",
              "</style>\n",
              "<table border=\"1\" class=\"dataframe\">\n",
              "  <thead>\n",
              "    <tr style=\"text-align: right;\">\n",
              "      <th></th>\n",
              "      <th>id</th>\n",
              "      <th>label</th>\n",
              "      <th>statement</th>\n",
              "      <th>subjects</th>\n",
              "      <th>speaker</th>\n",
              "      <th>speaker_job</th>\n",
              "      <th>state</th>\n",
              "      <th>party</th>\n",
              "      <th>barely_true_counts</th>\n",
              "      <th>false_counts</th>\n",
              "      <th>half_true_counts</th>\n",
              "      <th>mostly_true_counts</th>\n",
              "      <th>pants_on_fire_counts</th>\n",
              "      <th>context</th>\n",
              "    </tr>\n",
              "  </thead>\n",
              "  <tbody>\n",
              "    <tr>\n",
              "      <th>0</th>\n",
              "      <td>2635.json</td>\n",
              "      <td>false</td>\n",
              "      <td>Says the Annies List political group supports ...</td>\n",
              "      <td>abortion</td>\n",
              "      <td>dwayne-bohac</td>\n",
              "      <td>State representative</td>\n",
              "      <td>Texas</td>\n",
              "      <td>republican</td>\n",
              "      <td>0.0</td>\n",
              "      <td>1.0</td>\n",
              "      <td>0.0</td>\n",
              "      <td>0.0</td>\n",
              "      <td>0.0</td>\n",
              "      <td>a mailer</td>\n",
              "    </tr>\n",
              "    <tr>\n",
              "      <th>1</th>\n",
              "      <td>10540.json</td>\n",
              "      <td>half-true</td>\n",
              "      <td>When did the decline of coal start? It started...</td>\n",
              "      <td>energy,history,job-accomplishments</td>\n",
              "      <td>scott-surovell</td>\n",
              "      <td>State delegate</td>\n",
              "      <td>Virginia</td>\n",
              "      <td>democrat</td>\n",
              "      <td>0.0</td>\n",
              "      <td>0.0</td>\n",
              "      <td>1.0</td>\n",
              "      <td>1.0</td>\n",
              "      <td>0.0</td>\n",
              "      <td>a floor speech.</td>\n",
              "    </tr>\n",
              "    <tr>\n",
              "      <th>2</th>\n",
              "      <td>324.json</td>\n",
              "      <td>mostly-true</td>\n",
              "      <td>Hillary Clinton agrees with John McCain \"by vo...</td>\n",
              "      <td>foreign-policy</td>\n",
              "      <td>barack-obama</td>\n",
              "      <td>President</td>\n",
              "      <td>Illinois</td>\n",
              "      <td>democrat</td>\n",
              "      <td>70.0</td>\n",
              "      <td>71.0</td>\n",
              "      <td>160.0</td>\n",
              "      <td>163.0</td>\n",
              "      <td>9.0</td>\n",
              "      <td>Denver</td>\n",
              "    </tr>\n",
              "    <tr>\n",
              "      <th>3</th>\n",
              "      <td>1123.json</td>\n",
              "      <td>false</td>\n",
              "      <td>Health care reform legislation is likely to ma...</td>\n",
              "      <td>health-care</td>\n",
              "      <td>blog-posting</td>\n",
              "      <td>NaN</td>\n",
              "      <td>NaN</td>\n",
              "      <td>none</td>\n",
              "      <td>7.0</td>\n",
              "      <td>19.0</td>\n",
              "      <td>3.0</td>\n",
              "      <td>5.0</td>\n",
              "      <td>44.0</td>\n",
              "      <td>a news release</td>\n",
              "    </tr>\n",
              "    <tr>\n",
              "      <th>4</th>\n",
              "      <td>9028.json</td>\n",
              "      <td>half-true</td>\n",
              "      <td>The economic turnaround started at the end of ...</td>\n",
              "      <td>economy,jobs</td>\n",
              "      <td>charlie-crist</td>\n",
              "      <td>NaN</td>\n",
              "      <td>Florida</td>\n",
              "      <td>democrat</td>\n",
              "      <td>15.0</td>\n",
              "      <td>9.0</td>\n",
              "      <td>20.0</td>\n",
              "      <td>19.0</td>\n",
              "      <td>2.0</td>\n",
              "      <td>an interview on CNN</td>\n",
              "    </tr>\n",
              "  </tbody>\n",
              "</table>\n",
              "</div>"
            ],
            "text/plain": [
              "           id        label                                          statement  \\\n",
              "0   2635.json        false  Says the Annies List political group supports ...   \n",
              "1  10540.json    half-true  When did the decline of coal start? It started...   \n",
              "2    324.json  mostly-true  Hillary Clinton agrees with John McCain \"by vo...   \n",
              "3   1123.json        false  Health care reform legislation is likely to ma...   \n",
              "4   9028.json    half-true  The economic turnaround started at the end of ...   \n",
              "\n",
              "                             subjects         speaker           speaker_job  \\\n",
              "0                            abortion    dwayne-bohac  State representative   \n",
              "1  energy,history,job-accomplishments  scott-surovell        State delegate   \n",
              "2                      foreign-policy    barack-obama             President   \n",
              "3                         health-care    blog-posting                   NaN   \n",
              "4                        economy,jobs   charlie-crist                   NaN   \n",
              "\n",
              "      state       party  barely_true_counts  false_counts  half_true_counts  \\\n",
              "0     Texas  republican                 0.0           1.0               0.0   \n",
              "1  Virginia    democrat                 0.0           0.0               1.0   \n",
              "2  Illinois    democrat                70.0          71.0             160.0   \n",
              "3       NaN        none                 7.0          19.0               3.0   \n",
              "4   Florida    democrat                15.0           9.0              20.0   \n",
              "\n",
              "   mostly_true_counts  pants_on_fire_counts              context  \n",
              "0                 0.0                   0.0             a mailer  \n",
              "1                 1.0                   0.0      a floor speech.  \n",
              "2               163.0                   9.0               Denver  \n",
              "3                 5.0                  44.0       a news release  \n",
              "4                19.0                   2.0  an interview on CNN  "
            ]
          },
          "metadata": {
            "tags": []
          },
          "execution_count": 5
        }
      ]
    },
    {
      "cell_type": "markdown",
      "metadata": {
        "id": "GrQzPD4IDkn4",
        "colab_type": "text"
      },
      "source": [
        "**Assign the 4 labels to a new column and add to the base dataset**"
      ]
    },
    {
      "cell_type": "code",
      "metadata": {
        "id": "tIInJD4FJO7l",
        "colab_type": "code",
        "colab": {}
      },
      "source": [
        "df['fake']=df['label']\n",
        "df['fake']=np.where(df['label']=='half-true','true',df['fake'])\n",
        "df['fake']=np.where(df['label']=='mostly-true','true',df['fake'])\n",
        "df['fake']=np.where(df['label']=='barely-true','false',df['fake'])\n",
        "df['fake']=np.where(df['label']=='pants-fire','false',df['fake'])"
      ],
      "execution_count": 0,
      "outputs": []
    },
    {
      "cell_type": "markdown",
      "metadata": {
        "id": "Rwt5MsJhEJvO",
        "colab_type": "text"
      },
      "source": [
        "**Convert the categorical value of 'fake' column to numerical and assign the value to a new column 'fake_coded'**"
      ]
    },
    {
      "cell_type": "code",
      "metadata": {
        "id": "3G8XzhHFJXpj",
        "colab_type": "code",
        "outputId": "f598bd6d-6d50-4578-acac-f7c57c7819b6",
        "colab": {
          "base_uri": "https://localhost:8080/",
          "height": 70
        }
      },
      "source": [
        "df.fake = pd.Categorical(df.fake)\n",
        "print(pd.Categorical(df.fake))\n",
        "df['fake_coded'] = df.fake.cat.codes"
      ],
      "execution_count": 0,
      "outputs": [
        {
          "output_type": "stream",
          "text": [
            "[false, true, true, false, true, ..., true, true, true, false, false]\n",
            "Length: 10240\n",
            "Categories (2, object): [false, true]\n"
          ],
          "name": "stdout"
        }
      ]
    },
    {
      "cell_type": "markdown",
      "metadata": {
        "id": "Hg61RnqJEvlO",
        "colab_type": "text"
      },
      "source": [
        "**Print first few records after adding new columns 'fake' and 'fake_coded'**"
      ]
    },
    {
      "cell_type": "code",
      "metadata": {
        "id": "9_dq7SVRJhp7",
        "colab_type": "code",
        "outputId": "7830df95-4d99-4676-e839-dd4dcf1d5575",
        "colab": {
          "base_uri": "https://localhost:8080/",
          "height": 619
        }
      },
      "source": [
        "df.head(5)"
      ],
      "execution_count": 0,
      "outputs": [
        {
          "output_type": "execute_result",
          "data": {
            "text/html": [
              "<div>\n",
              "<style scoped>\n",
              "    .dataframe tbody tr th:only-of-type {\n",
              "        vertical-align: middle;\n",
              "    }\n",
              "\n",
              "    .dataframe tbody tr th {\n",
              "        vertical-align: top;\n",
              "    }\n",
              "\n",
              "    .dataframe thead th {\n",
              "        text-align: right;\n",
              "    }\n",
              "</style>\n",
              "<table border=\"1\" class=\"dataframe\">\n",
              "  <thead>\n",
              "    <tr style=\"text-align: right;\">\n",
              "      <th></th>\n",
              "      <th>id</th>\n",
              "      <th>label</th>\n",
              "      <th>statement</th>\n",
              "      <th>subjects</th>\n",
              "      <th>speaker</th>\n",
              "      <th>speaker_job</th>\n",
              "      <th>state</th>\n",
              "      <th>party</th>\n",
              "      <th>barely_true_counts</th>\n",
              "      <th>false_counts</th>\n",
              "      <th>half_true_counts</th>\n",
              "      <th>mostly_true_counts</th>\n",
              "      <th>pants_on_fire_counts</th>\n",
              "      <th>context</th>\n",
              "      <th>fake</th>\n",
              "      <th>fake_coded</th>\n",
              "    </tr>\n",
              "  </thead>\n",
              "  <tbody>\n",
              "    <tr>\n",
              "      <th>0</th>\n",
              "      <td>2635.json</td>\n",
              "      <td>false</td>\n",
              "      <td>Says the Annies List political group supports ...</td>\n",
              "      <td>abortion</td>\n",
              "      <td>dwayne-bohac</td>\n",
              "      <td>State representative</td>\n",
              "      <td>Texas</td>\n",
              "      <td>republican</td>\n",
              "      <td>0.0</td>\n",
              "      <td>1.0</td>\n",
              "      <td>0.0</td>\n",
              "      <td>0.0</td>\n",
              "      <td>0.0</td>\n",
              "      <td>a mailer</td>\n",
              "      <td>false</td>\n",
              "      <td>0</td>\n",
              "    </tr>\n",
              "    <tr>\n",
              "      <th>1</th>\n",
              "      <td>10540.json</td>\n",
              "      <td>half-true</td>\n",
              "      <td>When did the decline of coal start? It started...</td>\n",
              "      <td>energy,history,job-accomplishments</td>\n",
              "      <td>scott-surovell</td>\n",
              "      <td>State delegate</td>\n",
              "      <td>Virginia</td>\n",
              "      <td>democrat</td>\n",
              "      <td>0.0</td>\n",
              "      <td>0.0</td>\n",
              "      <td>1.0</td>\n",
              "      <td>1.0</td>\n",
              "      <td>0.0</td>\n",
              "      <td>a floor speech.</td>\n",
              "      <td>true</td>\n",
              "      <td>1</td>\n",
              "    </tr>\n",
              "    <tr>\n",
              "      <th>2</th>\n",
              "      <td>324.json</td>\n",
              "      <td>mostly-true</td>\n",
              "      <td>Hillary Clinton agrees with John McCain \"by vo...</td>\n",
              "      <td>foreign-policy</td>\n",
              "      <td>barack-obama</td>\n",
              "      <td>President</td>\n",
              "      <td>Illinois</td>\n",
              "      <td>democrat</td>\n",
              "      <td>70.0</td>\n",
              "      <td>71.0</td>\n",
              "      <td>160.0</td>\n",
              "      <td>163.0</td>\n",
              "      <td>9.0</td>\n",
              "      <td>Denver</td>\n",
              "      <td>true</td>\n",
              "      <td>1</td>\n",
              "    </tr>\n",
              "    <tr>\n",
              "      <th>3</th>\n",
              "      <td>1123.json</td>\n",
              "      <td>false</td>\n",
              "      <td>Health care reform legislation is likely to ma...</td>\n",
              "      <td>health-care</td>\n",
              "      <td>blog-posting</td>\n",
              "      <td>NaN</td>\n",
              "      <td>NaN</td>\n",
              "      <td>none</td>\n",
              "      <td>7.0</td>\n",
              "      <td>19.0</td>\n",
              "      <td>3.0</td>\n",
              "      <td>5.0</td>\n",
              "      <td>44.0</td>\n",
              "      <td>a news release</td>\n",
              "      <td>false</td>\n",
              "      <td>0</td>\n",
              "    </tr>\n",
              "    <tr>\n",
              "      <th>4</th>\n",
              "      <td>9028.json</td>\n",
              "      <td>half-true</td>\n",
              "      <td>The economic turnaround started at the end of ...</td>\n",
              "      <td>economy,jobs</td>\n",
              "      <td>charlie-crist</td>\n",
              "      <td>NaN</td>\n",
              "      <td>Florida</td>\n",
              "      <td>democrat</td>\n",
              "      <td>15.0</td>\n",
              "      <td>9.0</td>\n",
              "      <td>20.0</td>\n",
              "      <td>19.0</td>\n",
              "      <td>2.0</td>\n",
              "      <td>an interview on CNN</td>\n",
              "      <td>true</td>\n",
              "      <td>1</td>\n",
              "    </tr>\n",
              "  </tbody>\n",
              "</table>\n",
              "</div>"
            ],
            "text/plain": [
              "           id        label                                          statement  \\\n",
              "0   2635.json        false  Says the Annies List political group supports ...   \n",
              "1  10540.json    half-true  When did the decline of coal start? It started...   \n",
              "2    324.json  mostly-true  Hillary Clinton agrees with John McCain \"by vo...   \n",
              "3   1123.json        false  Health care reform legislation is likely to ma...   \n",
              "4   9028.json    half-true  The economic turnaround started at the end of ...   \n",
              "\n",
              "                             subjects         speaker           speaker_job  \\\n",
              "0                            abortion    dwayne-bohac  State representative   \n",
              "1  energy,history,job-accomplishments  scott-surovell        State delegate   \n",
              "2                      foreign-policy    barack-obama             President   \n",
              "3                         health-care    blog-posting                   NaN   \n",
              "4                        economy,jobs   charlie-crist                   NaN   \n",
              "\n",
              "      state       party  barely_true_counts  false_counts  half_true_counts  \\\n",
              "0     Texas  republican                 0.0           1.0               0.0   \n",
              "1  Virginia    democrat                 0.0           0.0               1.0   \n",
              "2  Illinois    democrat                70.0          71.0             160.0   \n",
              "3       NaN        none                 7.0          19.0               3.0   \n",
              "4   Florida    democrat                15.0           9.0              20.0   \n",
              "\n",
              "   mostly_true_counts  pants_on_fire_counts              context   fake  \\\n",
              "0                 0.0                   0.0             a mailer  false   \n",
              "1                 1.0                   0.0      a floor speech.   true   \n",
              "2               163.0                   9.0               Denver   true   \n",
              "3                 5.0                  44.0       a news release  false   \n",
              "4                19.0                   2.0  an interview on CNN   true   \n",
              "\n",
              "   fake_coded  \n",
              "0           0  \n",
              "1           1  \n",
              "2           1  \n",
              "3           0  \n",
              "4           1  "
            ]
          },
          "metadata": {
            "tags": []
          },
          "execution_count": 8
        }
      ]
    },
    {
      "cell_type": "markdown",
      "metadata": {
        "id": "ovlWE6gpFULI",
        "colab_type": "text"
      },
      "source": [
        "**Importing entire notebooks is hard so we import the features via csv files and create dataframes out of them**"
      ]
    },
    {
      "cell_type": "code",
      "metadata": {
        "id": "VmOWHKD-KaTn",
        "colab_type": "code",
        "outputId": "32004c6c-f6a6-4ab0-f36b-6ea6a7f047da",
        "colab": {
          "base_uri": "https://localhost:8080/",
          "height": 619
        }
      },
      "source": [
        "df['statement_feeling_score'] = df_credibility_fact_checks['statement_feeling_score']\n",
        "df['controvery_score'] = df_controversy['label_id']\n",
        "df['context_score'] = df_context['context_lda_topic_score']\n",
        "df['source_score'] = df_sourceCredibility['source_doc2vec']\n",
        "#Print the dataset after importing the features\n",
        "df.head(5)"
      ],
      "execution_count": 0,
      "outputs": [
        {
          "output_type": "execute_result",
          "data": {
            "text/html": [
              "<div>\n",
              "<style scoped>\n",
              "    .dataframe tbody tr th:only-of-type {\n",
              "        vertical-align: middle;\n",
              "    }\n",
              "\n",
              "    .dataframe tbody tr th {\n",
              "        vertical-align: top;\n",
              "    }\n",
              "\n",
              "    .dataframe thead th {\n",
              "        text-align: right;\n",
              "    }\n",
              "</style>\n",
              "<table border=\"1\" class=\"dataframe\">\n",
              "  <thead>\n",
              "    <tr style=\"text-align: right;\">\n",
              "      <th></th>\n",
              "      <th>id</th>\n",
              "      <th>label</th>\n",
              "      <th>statement</th>\n",
              "      <th>subjects</th>\n",
              "      <th>speaker</th>\n",
              "      <th>speaker_job</th>\n",
              "      <th>state</th>\n",
              "      <th>party</th>\n",
              "      <th>barely_true_counts</th>\n",
              "      <th>false_counts</th>\n",
              "      <th>half_true_counts</th>\n",
              "      <th>mostly_true_counts</th>\n",
              "      <th>pants_on_fire_counts</th>\n",
              "      <th>context</th>\n",
              "      <th>fake</th>\n",
              "      <th>fake_coded</th>\n",
              "      <th>statement_feeling_score</th>\n",
              "      <th>controvery_score</th>\n",
              "      <th>context_score</th>\n",
              "      <th>source_score</th>\n",
              "    </tr>\n",
              "  </thead>\n",
              "  <tbody>\n",
              "    <tr>\n",
              "      <th>0</th>\n",
              "      <td>2635.json</td>\n",
              "      <td>false</td>\n",
              "      <td>Says the Annies List political group supports ...</td>\n",
              "      <td>abortion</td>\n",
              "      <td>dwayne-bohac</td>\n",
              "      <td>State representative</td>\n",
              "      <td>Texas</td>\n",
              "      <td>republican</td>\n",
              "      <td>0.0</td>\n",
              "      <td>1.0</td>\n",
              "      <td>0.0</td>\n",
              "      <td>0.0</td>\n",
              "      <td>0.0</td>\n",
              "      <td>a mailer</td>\n",
              "      <td>false</td>\n",
              "      <td>0</td>\n",
              "      <td>-12</td>\n",
              "      <td>2.0</td>\n",
              "      <td>0.549999</td>\n",
              "      <td>0.054704</td>\n",
              "    </tr>\n",
              "    <tr>\n",
              "      <th>1</th>\n",
              "      <td>10540.json</td>\n",
              "      <td>half-true</td>\n",
              "      <td>When did the decline of coal start? It started...</td>\n",
              "      <td>energy,history,job-accomplishments</td>\n",
              "      <td>scott-surovell</td>\n",
              "      <td>State delegate</td>\n",
              "      <td>Virginia</td>\n",
              "      <td>democrat</td>\n",
              "      <td>0.0</td>\n",
              "      <td>0.0</td>\n",
              "      <td>1.0</td>\n",
              "      <td>1.0</td>\n",
              "      <td>0.0</td>\n",
              "      <td>a floor speech.</td>\n",
              "      <td>true</td>\n",
              "      <td>1</td>\n",
              "      <td>-12</td>\n",
              "      <td>1.0</td>\n",
              "      <td>0.699969</td>\n",
              "      <td>0.376065</td>\n",
              "    </tr>\n",
              "    <tr>\n",
              "      <th>2</th>\n",
              "      <td>324.json</td>\n",
              "      <td>mostly-true</td>\n",
              "      <td>Hillary Clinton agrees with John McCain \"by vo...</td>\n",
              "      <td>foreign-policy</td>\n",
              "      <td>barack-obama</td>\n",
              "      <td>President</td>\n",
              "      <td>Illinois</td>\n",
              "      <td>democrat</td>\n",
              "      <td>70.0</td>\n",
              "      <td>71.0</td>\n",
              "      <td>160.0</td>\n",
              "      <td>163.0</td>\n",
              "      <td>9.0</td>\n",
              "      <td>Denver</td>\n",
              "      <td>true</td>\n",
              "      <td>1</td>\n",
              "      <td>-12</td>\n",
              "      <td>0.0</td>\n",
              "      <td>0.549988</td>\n",
              "      <td>0.527170</td>\n",
              "    </tr>\n",
              "    <tr>\n",
              "      <th>3</th>\n",
              "      <td>1123.json</td>\n",
              "      <td>false</td>\n",
              "      <td>Health care reform legislation is likely to ma...</td>\n",
              "      <td>health-care</td>\n",
              "      <td>blog-posting</td>\n",
              "      <td>NaN</td>\n",
              "      <td>NaN</td>\n",
              "      <td>none</td>\n",
              "      <td>7.0</td>\n",
              "      <td>19.0</td>\n",
              "      <td>3.0</td>\n",
              "      <td>5.0</td>\n",
              "      <td>44.0</td>\n",
              "      <td>a news release</td>\n",
              "      <td>false</td>\n",
              "      <td>0</td>\n",
              "      <td>-11</td>\n",
              "      <td>3.0</td>\n",
              "      <td>0.699989</td>\n",
              "      <td>0.445341</td>\n",
              "    </tr>\n",
              "    <tr>\n",
              "      <th>4</th>\n",
              "      <td>9028.json</td>\n",
              "      <td>half-true</td>\n",
              "      <td>The economic turnaround started at the end of ...</td>\n",
              "      <td>economy,jobs</td>\n",
              "      <td>charlie-crist</td>\n",
              "      <td>NaN</td>\n",
              "      <td>Florida</td>\n",
              "      <td>democrat</td>\n",
              "      <td>15.0</td>\n",
              "      <td>9.0</td>\n",
              "      <td>20.0</td>\n",
              "      <td>19.0</td>\n",
              "      <td>2.0</td>\n",
              "      <td>an interview on CNN</td>\n",
              "      <td>true</td>\n",
              "      <td>1</td>\n",
              "      <td>-10</td>\n",
              "      <td>3.0</td>\n",
              "      <td>0.549983</td>\n",
              "      <td>0.060268</td>\n",
              "    </tr>\n",
              "  </tbody>\n",
              "</table>\n",
              "</div>"
            ],
            "text/plain": [
              "           id        label                                          statement  \\\n",
              "0   2635.json        false  Says the Annies List political group supports ...   \n",
              "1  10540.json    half-true  When did the decline of coal start? It started...   \n",
              "2    324.json  mostly-true  Hillary Clinton agrees with John McCain \"by vo...   \n",
              "3   1123.json        false  Health care reform legislation is likely to ma...   \n",
              "4   9028.json    half-true  The economic turnaround started at the end of ...   \n",
              "\n",
              "                             subjects         speaker           speaker_job  \\\n",
              "0                            abortion    dwayne-bohac  State representative   \n",
              "1  energy,history,job-accomplishments  scott-surovell        State delegate   \n",
              "2                      foreign-policy    barack-obama             President   \n",
              "3                         health-care    blog-posting                   NaN   \n",
              "4                        economy,jobs   charlie-crist                   NaN   \n",
              "\n",
              "      state       party  barely_true_counts  false_counts  half_true_counts  \\\n",
              "0     Texas  republican                 0.0           1.0               0.0   \n",
              "1  Virginia    democrat                 0.0           0.0               1.0   \n",
              "2  Illinois    democrat                70.0          71.0             160.0   \n",
              "3       NaN        none                 7.0          19.0               3.0   \n",
              "4   Florida    democrat                15.0           9.0              20.0   \n",
              "\n",
              "   mostly_true_counts  pants_on_fire_counts              context   fake  \\\n",
              "0                 0.0                   0.0             a mailer  false   \n",
              "1                 1.0                   0.0      a floor speech.   true   \n",
              "2               163.0                   9.0               Denver   true   \n",
              "3                 5.0                  44.0       a news release  false   \n",
              "4                19.0                   2.0  an interview on CNN   true   \n",
              "\n",
              "   fake_coded  statement_feeling_score  controvery_score  context_score  \\\n",
              "0           0                      -12               2.0       0.549999   \n",
              "1           1                      -12               1.0       0.699969   \n",
              "2           1                      -12               0.0       0.549988   \n",
              "3           0                      -11               3.0       0.699989   \n",
              "4           1                      -10               3.0       0.549983   \n",
              "\n",
              "   source_score  \n",
              "0      0.054704  \n",
              "1      0.376065  \n",
              "2      0.527170  \n",
              "3      0.445341  \n",
              "4      0.060268  "
            ]
          },
          "metadata": {
            "tags": []
          },
          "execution_count": 9
        }
      ]
    },
    {
      "cell_type": "markdown",
      "metadata": {
        "id": "lH9i6OK1FvUo",
        "colab_type": "text"
      },
      "source": [
        "## **PairPlot to visualize the distribution of features in dataset**"
      ]
    },
    {
      "cell_type": "code",
      "metadata": {
        "id": "TyvkcK9wLv_R",
        "colab_type": "code",
        "outputId": "58cb35fb-b2a5-4cd1-f77e-eb247255a34c",
        "colab": {
          "base_uri": "https://localhost:8080/",
          "height": 923
        }
      },
      "source": [
        "dk= df[['fake_coded','statement_feeling_score','controvery_score','context_score','source_score']]\n",
        "dk.head()\n",
        "sns.pairplot(data=dk, hue=\"fake_coded\", dropna='true')"
      ],
      "execution_count": 0,
      "outputs": [
        {
          "output_type": "execute_result",
          "data": {
            "text/plain": [
              "<seaborn.axisgrid.PairGrid at 0x7fe6b1e0ca90>"
            ]
          },
          "metadata": {
            "tags": []
          },
          "execution_count": 10
        },
        {
          "output_type": "display_data",
          "data": {
            "image/png": "[encoded data removed]",
            "text/plain": [
              "<Figure size 965x900 with 30 Axes>"
            ]
          },
          "metadata": {
            "tags": []
          }
        }
      ]
    },
    {
      "cell_type": "markdown",
      "metadata": {
        "id": "NQWNA63SN0Z3",
        "colab_type": "text"
      },
      "source": [
        "## **Encoding and Train Test splitting**"
      ]
    },
    {
      "cell_type": "markdown",
      "metadata": {
        "id": "bt1LjK3iGJw2",
        "colab_type": "text"
      },
      "source": [
        "**Split the dataset into features and target**"
      ]
    },
    {
      "cell_type": "code",
      "metadata": {
        "id": "9KJ4zwqkNCBC",
        "colab_type": "code",
        "colab": {}
      },
      "source": [
        "# dropping columns which are not relevant or similar columns.\n",
        "X = df[[ 'statement_feeling_score','controvery_score','context_score','source_score']]\n",
        "y = df['fake_coded']\n",
        "X = X.fillna(0);\n",
        "y = y.fillna(0);"
      ],
      "execution_count": 0,
      "outputs": []
    },
    {
      "cell_type": "markdown",
      "metadata": {
        "id": "CNrcWl7NGZGn",
        "colab_type": "text"
      },
      "source": [
        "**Split the features and target into training and testing sets**"
      ]
    },
    {
      "cell_type": "code",
      "metadata": {
        "id": "hJ9gAXGtNYDa",
        "colab_type": "code",
        "colab": {}
      },
      "source": [
        "from sklearn.model_selection import train_test_split \n",
        "X_train, X_test, y_train, y_test = train_test_split(X, y, test_size=0.2, random_state = 100)"
      ],
      "execution_count": 0,
      "outputs": []
    },
    {
      "cell_type": "markdown",
      "metadata": {
        "id": "VGS0JxJLN5pH",
        "colab_type": "text"
      },
      "source": [
        "## **Classification algorithms to determine feature importances (weight for polynomial equation)**"
      ]
    },
    {
      "cell_type": "markdown",
      "metadata": {
        "id": "bup-oS4-Gjoz",
        "colab_type": "text"
      },
      "source": [
        "**Code to plot the ROC curve**"
      ]
    },
    {
      "cell_type": "code",
      "metadata": {
        "id": "g8gfGNmUOyk8",
        "colab_type": "code",
        "colab": {}
      },
      "source": [
        "from sklearn.metrics import roc_curve, roc_auc_score, auc\n",
        "# Function to get roc curve\n",
        "def get_roc (y_test,y_pred):\n",
        "    # Compute ROC curve and ROC area for each class\n",
        "    fpr = dict()\n",
        "    tpr = dict()\n",
        "    roc_auc = dict()\n",
        "    fpr, tpr, _ = roc_curve(y_test, y_pred)\n",
        "    roc_auc = auc(fpr, tpr)\n",
        "    #Plot of a ROC curve\n",
        "    plt.figure()\n",
        "    lw = 2\n",
        "    plt.plot(fpr, tpr, color='darkorange',\n",
        "             label='ROC curve (area = %0.2f)' % roc_auc)\n",
        "    plt.plot([0, 1], [0, 1], color='navy', lw=lw, linestyle='--')\n",
        "    plt.xlim([0.0, 1.0])\n",
        "    plt.ylim([0.0, 1.0])\n",
        "    plt.xlabel('False Positive Rate')\n",
        "    plt.ylabel('True Positive Rate')\n",
        "    plt.title('Receiver operating characteristic')\n",
        "    plt.legend(loc=\"upper left\")\n",
        "    plt.show()\n",
        "    return"
      ],
      "execution_count": 0,
      "outputs": []
    },
    {
      "cell_type": "markdown",
      "metadata": {
        "id": "resOBFM_Gpyx",
        "colab_type": "text"
      },
      "source": [
        "**Code to get Precision and Recall score**"
      ]
    },
    {
      "cell_type": "code",
      "metadata": {
        "id": "Ty-wk0hpO3vK",
        "colab_type": "code",
        "colab": {}
      },
      "source": [
        "from sklearn.metrics import  average_precision_score, precision_recall_curve\n",
        "\n",
        "\n",
        "# Function to get Precision recall curve\n",
        "def get_prec_recall (y_test,y_pred):\n",
        "    average_precision = average_precision_score(y_test, y_pred)\n",
        "    print('Average precision-recall score : {}'.format(average_precision))\n",
        "    precision, recall, _ = precision_recall_curve(y_test, y_pred)\n",
        "    plt.step(recall, precision, color='b', alpha=0.2, where='post')\n",
        "    plt.fill_between(recall, precision, step='post', alpha=0.2,color='cyan')\n",
        "    plt.xlabel('Recall')\n",
        "    plt.ylabel('Precision')\n",
        "    plt.ylim([0.0, 1.05])\n",
        "    plt.xlim([0.0, 1.0])\n",
        "    plt.title('2-class Precision-Recall curve: AP={0:0.2f}'.format(average_precision))\n",
        "    return"
      ],
      "execution_count": 0,
      "outputs": []
    },
    {
      "cell_type": "markdown",
      "metadata": {
        "id": "JIrmQC6UUZHh",
        "colab_type": "text"
      },
      "source": [
        "### **Logistic Regression**"
      ]
    },
    {
      "cell_type": "markdown",
      "metadata": {
        "id": "iiFAxFKrG48H",
        "colab_type": "text"
      },
      "source": [
        "**Train the Logistic Regression model**"
      ]
    },
    {
      "cell_type": "code",
      "metadata": {
        "id": "I4EMDm6uUb4j",
        "colab_type": "code",
        "outputId": "057471aa-aac6-42c2-fc50-e9ab01704b09",
        "colab": {
          "base_uri": "https://localhost:8080/",
          "height": 106
        }
      },
      "source": [
        "from sklearn.linear_model import LogisticRegression\n",
        "logmodel = LogisticRegression()\n",
        "logmodel.fit(X_train,y_train)"
      ],
      "execution_count": 0,
      "outputs": [
        {
          "output_type": "execute_result",
          "data": {
            "text/plain": [
              "LogisticRegression(C=1.0, class_weight=None, dual=False, fit_intercept=True,\n",
              "                   intercept_scaling=1, l1_ratio=None, max_iter=100,\n",
              "                   multi_class='warn', n_jobs=None, penalty='l2',\n",
              "                   random_state=None, solver='warn', tol=0.0001, verbose=0,\n",
              "                   warm_start=False)"
            ]
          },
          "metadata": {
            "tags": []
          },
          "execution_count": 15
        }
      ]
    },
    {
      "cell_type": "markdown",
      "metadata": {
        "id": "2vTCfEI8HLZL",
        "colab_type": "text"
      },
      "source": [
        "**Predict on unseen data**"
      ]
    },
    {
      "cell_type": "code",
      "metadata": {
        "id": "OC4VswDkUdMb",
        "colab_type": "code",
        "colab": {}
      },
      "source": [
        "predictions = logmodel.predict(X_test)"
      ],
      "execution_count": 0,
      "outputs": []
    },
    {
      "cell_type": "markdown",
      "metadata": {
        "id": "v9b53MhtHN8T",
        "colab_type": "text"
      },
      "source": [
        "**Get the feature importances**"
      ]
    },
    {
      "cell_type": "code",
      "metadata": {
        "id": "0QeNDoi3UiEk",
        "colab_type": "code",
        "outputId": "644f160b-835b-4ed5-dcc5-ace2c6b0ad6b",
        "colab": {
          "base_uri": "https://localhost:8080/",
          "height": 35
        }
      },
      "source": [
        "#Getting feature importances \n",
        "print(logmodel.coef_)"
      ],
      "execution_count": 0,
      "outputs": [
        {
          "output_type": "stream",
          "text": [
            "[[-0.00418701 -0.01663877  0.3519812   0.18527437]]\n"
          ],
          "name": "stdout"
        }
      ]
    },
    {
      "cell_type": "markdown",
      "metadata": {
        "id": "4OCJMe5FHSqj",
        "colab_type": "text"
      },
      "source": [
        "**Print Confusion matrix**"
      ]
    },
    {
      "cell_type": "code",
      "metadata": {
        "id": "ogp3AzMQUzLK",
        "colab_type": "code",
        "outputId": "c1c67097-5b1e-40ce-da5c-ef590f1144aa",
        "colab": {
          "base_uri": "https://localhost:8080/",
          "height": 52
        }
      },
      "source": [
        "#Validation\n",
        "from sklearn.metrics import confusion_matrix\n",
        "confusion_matrix(y_test, predictions)"
      ],
      "execution_count": 0,
      "outputs": [
        {
          "output_type": "execute_result",
          "data": {
            "text/plain": [
              "array([[   0,  892],\n",
              "       [   0, 1156]])"
            ]
          },
          "metadata": {
            "tags": []
          },
          "execution_count": 18
        }
      ]
    },
    {
      "cell_type": "markdown",
      "metadata": {
        "id": "MHiS8aCyHVYA",
        "colab_type": "text"
      },
      "source": [
        "**Classification Report**"
      ]
    },
    {
      "cell_type": "code",
      "metadata": {
        "id": "Af5Z4QKJUlP-",
        "colab_type": "code",
        "outputId": "222c0830-89b3-454d-99c1-b5db4a282c6f",
        "colab": {
          "base_uri": "https://localhost:8080/",
          "height": 177
        }
      },
      "source": [
        "from sklearn.metrics import classification_report\n",
        "print(classification_report(y_test,predictions))"
      ],
      "execution_count": 0,
      "outputs": [
        {
          "output_type": "stream",
          "text": [
            "              precision    recall  f1-score   support\n",
            "\n",
            "           0       0.00      0.00      0.00       892\n",
            "           1       0.56      1.00      0.72      1156\n",
            "\n",
            "    accuracy                           0.56      2048\n",
            "   macro avg       0.28      0.50      0.36      2048\n",
            "weighted avg       0.32      0.56      0.41      2048\n",
            "\n"
          ],
          "name": "stdout"
        }
      ]
    },
    {
      "cell_type": "markdown",
      "metadata": {
        "id": "G26vIcX-HZLp",
        "colab_type": "text"
      },
      "source": [
        "**K-Fold Cross validation**"
      ]
    },
    {
      "cell_type": "code",
      "metadata": {
        "id": "-LI_15GqUnzR",
        "colab_type": "code",
        "outputId": "c8a1b44f-5834-4fa6-818e-60b9a32d1c4c",
        "colab": {
          "base_uri": "https://localhost:8080/",
          "height": 35
        }
      },
      "source": [
        "# Applying k-Fold Cross Validation\n",
        "from sklearn.model_selection import cross_val_score\n",
        "accuracies = cross_val_score(estimator = logmodel, X = X_train, y = y_train, cv = 10)\n",
        "accuracies.mean()"
      ],
      "execution_count": 0,
      "outputs": [
        {
          "output_type": "execute_result",
          "data": {
            "text/plain": [
              "0.5610352436042698"
            ]
          },
          "metadata": {
            "tags": []
          },
          "execution_count": 20
        }
      ]
    },
    {
      "cell_type": "markdown",
      "metadata": {
        "id": "Fo9eTBXpHdE1",
        "colab_type": "text"
      },
      "source": [
        "**Plot the Confusion matrix**"
      ]
    },
    {
      "cell_type": "code",
      "metadata": {
        "id": "lSYBVpn1UrVa",
        "colab_type": "code",
        "outputId": "891b4e02-ee8d-49aa-f6ac-13194ff81654",
        "colab": {
          "base_uri": "https://localhost:8080/",
          "height": 345
        }
      },
      "source": [
        "from sklearn.metrics import confusion_matrix\n",
        "#print(confusion_matrix(y_test,predictions))\n",
        "cnf_matrix_logreg = metrics.confusion_matrix(y_test, predictions)\n",
        "# create heatmap\n",
        "sns.heatmap(pd.DataFrame(cnf_matrix_logreg), annot=True, cmap=\"YlGnBu\" ,fmt='g')\n",
        "\n",
        "plt.tight_layout()\n",
        "plt.title('Confusion matrix for Logistic Regression', y=1.1)\n",
        "plt.ylabel('Actual label')\n",
        "plt.xlabel('Predicted label')\n",
        "print(\"Model Accuracy for Logistic Regression:\",metrics.accuracy_score(y_test, predictions))"
      ],
      "execution_count": 0,
      "outputs": [
        {
          "output_type": "stream",
          "text": [
            "Model Accuracy for Logistic Regression: 0.564453125\n"
          ],
          "name": "stdout"
        },
        {
          "output_type": "display_data",
          "data": {
            "image/png": "[encoded data removed]",
            "text/plain": [
              "<Figure size 432x288 with 2 Axes>"
            ]
          },
          "metadata": {
            "tags": []
          }
        }
      ]
    },
    {
      "cell_type": "markdown",
      "metadata": {
        "id": "sxVzUnobHhAW",
        "colab_type": "text"
      },
      "source": [
        "**Accuracy Score**"
      ]
    },
    {
      "cell_type": "code",
      "metadata": {
        "id": "TLH35TFGU-vi",
        "colab_type": "code",
        "outputId": "1dacb9af-df89-489a-d2d4-0a9487ef49c2",
        "colab": {
          "base_uri": "https://localhost:8080/",
          "height": 35
        }
      },
      "source": [
        "#from sklearn.metrics import accuracy_score \n",
        "from sklearn.metrics import accuracy_score \n",
        "print (\"Accuracy : \", accuracy_score(y_test,predictions)*100)"
      ],
      "execution_count": 0,
      "outputs": [
        {
          "output_type": "stream",
          "text": [
            "Accuracy :  56.4453125\n"
          ],
          "name": "stdout"
        }
      ]
    },
    {
      "cell_type": "markdown",
      "metadata": {
        "id": "2AP_tuz0Hjcw",
        "colab_type": "text"
      },
      "source": [
        "**ROC Curve**"
      ]
    },
    {
      "cell_type": "code",
      "metadata": {
        "id": "6q3V2hi3VCNk",
        "colab_type": "code",
        "outputId": "4ba9e7d9-17b9-4ce7-b8e4-b73189ccdea2",
        "colab": {
          "base_uri": "https://localhost:8080/",
          "height": 295
        }
      },
      "source": [
        "# Get ROC curve for Logistic Regression\n",
        "\n",
        "get_roc(y_test,predictions)"
      ],
      "execution_count": 0,
      "outputs": [
        {
          "output_type": "display_data",
          "data": {
            "image/png": "[encoded data removed]",
            "text/plain": [
              "<Figure size 432x288 with 1 Axes>"
            ]
          },
          "metadata": {
            "tags": []
          }
        }
      ]
    },
    {
      "cell_type": "markdown",
      "metadata": {
        "id": "LWePZ-CJOr4K",
        "colab_type": "text"
      },
      "source": [
        "### **Decision Tree**"
      ]
    },
    {
      "cell_type": "markdown",
      "metadata": {
        "id": "ZWgYs61wHqO3",
        "colab_type": "text"
      },
      "source": [
        "**Train the Decision Tree model**"
      ]
    },
    {
      "cell_type": "code",
      "metadata": {
        "id": "by5IpsaEOrgf",
        "colab_type": "code",
        "outputId": "cfc7e624-774a-4f31-c729-239d6c3cd90a",
        "colab": {
          "base_uri": "https://localhost:8080/",
          "height": 124
        }
      },
      "source": [
        "decclassifier = DecisionTreeClassifier()\n",
        "decclassifier.fit(X_train, y_train)"
      ],
      "execution_count": 0,
      "outputs": [
        {
          "output_type": "execute_result",
          "data": {
            "text/plain": [
              "DecisionTreeClassifier(class_weight=None, criterion='gini', max_depth=None,\n",
              "                       max_features=None, max_leaf_nodes=None,\n",
              "                       min_impurity_decrease=0.0, min_impurity_split=None,\n",
              "                       min_samples_leaf=1, min_samples_split=2,\n",
              "                       min_weight_fraction_leaf=0.0, presort=False,\n",
              "                       random_state=None, splitter='best')"
            ]
          },
          "metadata": {
            "tags": []
          },
          "execution_count": 24
        }
      ]
    },
    {
      "cell_type": "markdown",
      "metadata": {
        "id": "-_EDNp08Http",
        "colab_type": "text"
      },
      "source": [
        "**Predict on unseen data**"
      ]
    },
    {
      "cell_type": "code",
      "metadata": {
        "id": "4klWI883Om_G",
        "colab_type": "code",
        "colab": {}
      },
      "source": [
        "y_pred = decclassifier.predict(X_test)"
      ],
      "execution_count": 0,
      "outputs": []
    },
    {
      "cell_type": "markdown",
      "metadata": {
        "id": "hebJwLO4Hwc8",
        "colab_type": "text"
      },
      "source": [
        "**Plot the feature importances**"
      ]
    },
    {
      "cell_type": "code",
      "metadata": {
        "id": "nb6Sz1DvPbQR",
        "colab_type": "code",
        "outputId": "ddbab6b1-4db7-4778-b387-01c8e95b11c9",
        "colab": {
          "base_uri": "https://localhost:8080/",
          "height": 35
        }
      },
      "source": [
        "decclassifier.feature_importances_"
      ],
      "execution_count": 0,
      "outputs": [
        {
          "output_type": "execute_result",
          "data": {
            "text/plain": [
              "array([0.14902466, 0.02670322, 0.73262993, 0.09164219])"
            ]
          },
          "metadata": {
            "tags": []
          },
          "execution_count": 26
        }
      ]
    },
    {
      "cell_type": "code",
      "metadata": {
        "id": "W8XMkfSwPkmM",
        "colab_type": "code",
        "outputId": "be77088d-8594-4761-e4fd-7710ebed0215",
        "colab": {
          "base_uri": "https://localhost:8080/",
          "height": 368
        }
      },
      "source": [
        "feats = {} # a dict to hold feature_name: feature_importance\n",
        "for feature, importance in zip(X.columns, decclassifier.feature_importances_):\n",
        "    feats[feature] = importance #add the name/value pair \n",
        "\n",
        "importances = pd.DataFrame.from_dict(feats, orient='index').rename(columns={0: 'Gini-importance'})\n",
        "importances.sort_values(by='Gini-importance').plot(kind='bar', rot=45)"
      ],
      "execution_count": 0,
      "outputs": [
        {
          "output_type": "execute_result",
          "data": {
            "text/plain": [
              "<matplotlib.axes._subplots.AxesSubplot at 0x7fe6ac41d6d8>"
            ]
          },
          "metadata": {
            "tags": []
          },
          "execution_count": 27
        },
        {
          "output_type": "display_data",
          "data": {
            "image/png": "[encoded data removed]",
            "text/plain": [
              "<Figure size 432x288 with 1 Axes>"
            ]
          },
          "metadata": {
            "tags": []
          }
        }
      ]
    },
    {
      "cell_type": "markdown",
      "metadata": {
        "id": "NRQIZ70CIOBl",
        "colab_type": "text"
      },
      "source": [
        "**Print Confusion matrix**"
      ]
    },
    {
      "cell_type": "code",
      "metadata": {
        "id": "8I0znev_PxV0",
        "colab_type": "code",
        "outputId": "cc0c89ea-ae8a-4ded-d17b-a8de4607d5b7",
        "colab": {
          "base_uri": "https://localhost:8080/",
          "height": 52
        }
      },
      "source": [
        "#Validation\n",
        "from sklearn.metrics import confusion_matrix\n",
        "confusion_matrix(y_test, y_pred)"
      ],
      "execution_count": 0,
      "outputs": [
        {
          "output_type": "execute_result",
          "data": {
            "text/plain": [
              "array([[347, 545],\n",
              "       [369, 787]])"
            ]
          },
          "metadata": {
            "tags": []
          },
          "execution_count": 28
        }
      ]
    },
    {
      "cell_type": "markdown",
      "metadata": {
        "id": "E98b-Z_AIPVr",
        "colab_type": "text"
      },
      "source": [
        "**Classification Report**"
      ]
    },
    {
      "cell_type": "code",
      "metadata": {
        "id": "kRPq83jzP1jT",
        "colab_type": "code",
        "outputId": "316604ec-7a64-4d8d-e2e7-121a6a6b651c",
        "colab": {
          "base_uri": "https://localhost:8080/",
          "height": 177
        }
      },
      "source": [
        "from sklearn.metrics import classification_report\n",
        "print(classification_report(y_test,y_pred))"
      ],
      "execution_count": 0,
      "outputs": [
        {
          "output_type": "stream",
          "text": [
            "              precision    recall  f1-score   support\n",
            "\n",
            "           0       0.48      0.39      0.43       892\n",
            "           1       0.59      0.68      0.63      1156\n",
            "\n",
            "    accuracy                           0.55      2048\n",
            "   macro avg       0.54      0.53      0.53      2048\n",
            "weighted avg       0.54      0.55      0.55      2048\n",
            "\n"
          ],
          "name": "stdout"
        }
      ]
    },
    {
      "cell_type": "markdown",
      "metadata": {
        "id": "QxJxtJL-IU17",
        "colab_type": "text"
      },
      "source": [
        "**K-Fold Cross validation**"
      ]
    },
    {
      "cell_type": "code",
      "metadata": {
        "id": "tO4ZwEQaP6uP",
        "colab_type": "code",
        "outputId": "22645bd1-22ec-4ce9-993d-221e10379b7a",
        "colab": {
          "base_uri": "https://localhost:8080/",
          "height": 35
        }
      },
      "source": [
        "# Applying k-Fold Cross Validation\n",
        "from sklearn.model_selection import cross_val_score\n",
        "accuracies = cross_val_score(estimator = decclassifier, X = X_train, y = y_train, cv = 10)\n",
        "accuracies.mean()"
      ],
      "execution_count": 0,
      "outputs": [
        {
          "output_type": "execute_result",
          "data": {
            "text/plain": [
              "0.5302671596398116"
            ]
          },
          "metadata": {
            "tags": []
          },
          "execution_count": 30
        }
      ]
    },
    {
      "cell_type": "markdown",
      "metadata": {
        "id": "30R2ry9aIYIJ",
        "colab_type": "text"
      },
      "source": [
        "**Plot the Confusion matrix**"
      ]
    },
    {
      "cell_type": "code",
      "metadata": {
        "id": "LfZS3y0CP_Za",
        "colab_type": "code",
        "outputId": "fb8ef92b-f217-409a-fd3c-779fddbec5ba",
        "colab": {
          "base_uri": "https://localhost:8080/",
          "height": 345
        }
      },
      "source": [
        "# Making the Confusion Matrix\n",
        "from sklearn.metrics import confusion_matrix\n",
        "#print(confusion_matrix(y_test,predictions))\n",
        "cnf_matrix_dectree = metrics.confusion_matrix(y_test, y_pred)\n",
        "# create heatmap\n",
        "sns.heatmap(pd.DataFrame(cnf_matrix_dectree), annot=True, cmap=\"YlGnBu\" ,fmt='g')\n",
        "\n",
        "plt.tight_layout()\n",
        "plt.title('Confusion matrix for Decision Tree', y=1.1)\n",
        "plt.ylabel('Actual label')\n",
        "plt.xlabel('Predicted label')\n",
        "print(\"Model Accuracy for Decision tree:\",metrics.accuracy_score(y_test, y_pred))"
      ],
      "execution_count": 0,
      "outputs": [
        {
          "output_type": "stream",
          "text": [
            "Model Accuracy for Decision tree: 0.5537109375\n"
          ],
          "name": "stdout"
        },
        {
          "output_type": "display_data",
          "data": {
            "image/png": "[encoded data removed]",
            "text/plain": [
              "<Figure size 432x288 with 2 Axes>"
            ]
          },
          "metadata": {
            "tags": []
          }
        }
      ]
    },
    {
      "cell_type": "markdown",
      "metadata": {
        "id": "QekyYRWWIZYG",
        "colab_type": "text"
      },
      "source": [
        "**Accuracy Score**"
      ]
    },
    {
      "cell_type": "code",
      "metadata": {
        "id": "pl9VxNZDQYsx",
        "colab_type": "code",
        "outputId": "9d506845-fc75-40ff-9852-37e0da49feb0",
        "colab": {
          "base_uri": "https://localhost:8080/",
          "height": 35
        }
      },
      "source": [
        "#from sklearn.metrics import accuracy_score \n",
        "from sklearn.metrics import accuracy_score \n",
        "print (\"Accuracy : \", accuracy_score(y_test,y_pred)*100)"
      ],
      "execution_count": 0,
      "outputs": [
        {
          "output_type": "stream",
          "text": [
            "Accuracy :  55.37109375\n"
          ],
          "name": "stdout"
        }
      ]
    },
    {
      "cell_type": "markdown",
      "metadata": {
        "id": "8fFFJg1TIdNc",
        "colab_type": "text"
      },
      "source": [
        "**ROC Curve**"
      ]
    },
    {
      "cell_type": "code",
      "metadata": {
        "id": "3jfgS5tHQk_n",
        "colab_type": "code",
        "outputId": "500096d7-131e-490c-dde5-d537ae6ee7cb",
        "colab": {
          "base_uri": "https://localhost:8080/",
          "height": 295
        }
      },
      "source": [
        "# Get ROC curve for Decision Tree\n",
        "\n",
        "get_roc(y_test,y_pred)"
      ],
      "execution_count": 0,
      "outputs": [
        {
          "output_type": "display_data",
          "data": {
            "image/png": "[encoded data removed]",
            "text/plain": [
              "<Figure size 432x288 with 1 Axes>"
            ]
          },
          "metadata": {
            "tags": []
          }
        }
      ]
    },
    {
      "cell_type": "markdown",
      "metadata": {
        "id": "VZt-zwqzQv5T",
        "colab_type": "text"
      },
      "source": [
        "### **Random Forest**"
      ]
    },
    {
      "cell_type": "markdown",
      "metadata": {
        "id": "GgkIREGiIjdc",
        "colab_type": "text"
      },
      "source": [
        "**Train the Random Forest model**"
      ]
    },
    {
      "cell_type": "code",
      "metadata": {
        "id": "vKfScKEjQx6e",
        "colab_type": "code",
        "outputId": "6ec4fbfb-578a-4084-f86b-54e2a25ff86f",
        "colab": {
          "base_uri": "https://localhost:8080/",
          "height": 141
        }
      },
      "source": [
        "from sklearn.ensemble import RandomForestClassifier\n",
        "rfc = RandomForestClassifier(n_estimators=1000)\n",
        "rfc.fit(X_train, y_train)"
      ],
      "execution_count": 0,
      "outputs": [
        {
          "output_type": "execute_result",
          "data": {
            "text/plain": [
              "RandomForestClassifier(bootstrap=True, class_weight=None, criterion='gini',\n",
              "                       max_depth=None, max_features='auto', max_leaf_nodes=None,\n",
              "                       min_impurity_decrease=0.0, min_impurity_split=None,\n",
              "                       min_samples_leaf=1, min_samples_split=2,\n",
              "                       min_weight_fraction_leaf=0.0, n_estimators=1000,\n",
              "                       n_jobs=None, oob_score=False, random_state=None,\n",
              "                       verbose=0, warm_start=False)"
            ]
          },
          "metadata": {
            "tags": []
          },
          "execution_count": 34
        }
      ]
    },
    {
      "cell_type": "markdown",
      "metadata": {
        "id": "pRaVSL0NImHY",
        "colab_type": "text"
      },
      "source": [
        "**Predict on unseen data**"
      ]
    },
    {
      "cell_type": "code",
      "metadata": {
        "id": "qDlXgeIKQ_rp",
        "colab_type": "code",
        "colab": {}
      },
      "source": [
        "rfc_pred = rfc.predict(X_test)"
      ],
      "execution_count": 0,
      "outputs": []
    },
    {
      "cell_type": "markdown",
      "metadata": {
        "id": "HuLmoJYoIpLm",
        "colab_type": "text"
      },
      "source": [
        "**Get the feature importances**"
      ]
    },
    {
      "cell_type": "code",
      "metadata": {
        "id": "dztYycwpRDPm",
        "colab_type": "code",
        "outputId": "18691800-7e47-4cac-b8a5-6ae89eb2c0ff",
        "colab": {
          "base_uri": "https://localhost:8080/",
          "height": 35
        }
      },
      "source": [
        "#'spam_score_fector','click_bait_score','toxicity_factor','src_url_polarity','sentiment_score','stance_factor_num'\n",
        "rfc.feature_importances_"
      ],
      "execution_count": 0,
      "outputs": [
        {
          "output_type": "execute_result",
          "data": {
            "text/plain": [
              "array([0.06590281, 0.02335563, 0.83558692, 0.07515463])"
            ]
          },
          "metadata": {
            "tags": []
          },
          "execution_count": 36
        }
      ]
    },
    {
      "cell_type": "markdown",
      "metadata": {
        "id": "iH3nC5I5RH_i",
        "colab_type": "text"
      },
      "source": [
        "**Plot the feature importance and weight determination**"
      ]
    },
    {
      "cell_type": "code",
      "metadata": {
        "id": "JrYqnDslRI_r",
        "colab_type": "code",
        "outputId": "950bbb23-33c8-404b-ea6b-858994c397da",
        "colab": {
          "base_uri": "https://localhost:8080/",
          "height": 350
        }
      },
      "source": [
        "feats = {} # a dict to hold feature_name: feature_importance\n",
        "for feature, importance in zip(X.columns, rfc.feature_importances_):\n",
        "    feats[feature] = importance #add the name/value pair \n",
        "\n",
        "importances = pd.DataFrame.from_dict(feats, orient='index').rename(columns={0: 'Gini-importance'})\n",
        "ax = importances.sort_values(by='Gini-importance').plot(kind='bar', rot=45)\n",
        "for p in ax.patches:\n",
        "    ax.annotate(str(np.round(p.get_height(),decimals=2)), (p.get_x(), p.get_height()))"
      ],
      "execution_count": 0,
      "outputs": [
        {
          "output_type": "display_data",
          "data": {
            "image/png": "[encoded data removed]",
            "text/plain": [
              "<Figure size 432x288 with 1 Axes>"
            ]
          },
          "metadata": {
            "tags": []
          }
        }
      ]
    },
    {
      "cell_type": "markdown",
      "metadata": {
        "id": "awZhdb_XIwop",
        "colab_type": "text"
      },
      "source": [
        "**Print Confusion matrix**"
      ]
    },
    {
      "cell_type": "code",
      "metadata": {
        "id": "4Nwwo3l1RlQo",
        "colab_type": "code",
        "outputId": "ed0518aa-eddf-4d04-c661-c0ef34c0a6d5",
        "colab": {
          "base_uri": "https://localhost:8080/",
          "height": 52
        }
      },
      "source": [
        "print(confusion_matrix(y_test,rfc_pred))"
      ],
      "execution_count": 0,
      "outputs": [
        {
          "output_type": "stream",
          "text": [
            "[[310 582]\n",
            " [358 798]]\n"
          ],
          "name": "stdout"
        }
      ]
    },
    {
      "cell_type": "markdown",
      "metadata": {
        "id": "zmRwCo7fIzTb",
        "colab_type": "text"
      },
      "source": [
        "**Classification Report**"
      ]
    },
    {
      "cell_type": "code",
      "metadata": {
        "id": "IO3qJRweRnzL",
        "colab_type": "code",
        "outputId": "0b928700-22a9-46b3-c80d-6028d8c3892d",
        "colab": {
          "base_uri": "https://localhost:8080/",
          "height": 177
        }
      },
      "source": [
        "print(classification_report(y_test,rfc_pred))"
      ],
      "execution_count": 0,
      "outputs": [
        {
          "output_type": "stream",
          "text": [
            "              precision    recall  f1-score   support\n",
            "\n",
            "           0       0.46      0.35      0.40       892\n",
            "           1       0.58      0.69      0.63      1156\n",
            "\n",
            "    accuracy                           0.54      2048\n",
            "   macro avg       0.52      0.52      0.51      2048\n",
            "weighted avg       0.53      0.54      0.53      2048\n",
            "\n"
          ],
          "name": "stdout"
        }
      ]
    },
    {
      "cell_type": "markdown",
      "metadata": {
        "id": "gkMpRuMrI1fj",
        "colab_type": "text"
      },
      "source": [
        "**Accuracy Score**"
      ]
    },
    {
      "cell_type": "code",
      "metadata": {
        "id": "CmBfNXtJRq8E",
        "colab_type": "code",
        "outputId": "77a4aa57-0b92-4a4b-d8ae-6b346a37c375",
        "colab": {
          "base_uri": "https://localhost:8080/",
          "height": 35
        }
      },
      "source": [
        "#from sklearn.metrics import accuracy_score \n",
        "print (\"Accuracy : \", metrics.accuracy_score(y_test,rfc_pred)*100 )"
      ],
      "execution_count": 0,
      "outputs": [
        {
          "output_type": "stream",
          "text": [
            "Accuracy :  54.1015625\n"
          ],
          "name": "stdout"
        }
      ]
    },
    {
      "cell_type": "markdown",
      "metadata": {
        "id": "Xa_WrOd6I30l",
        "colab_type": "text"
      },
      "source": [
        "**Plot the Confusion matrix**"
      ]
    },
    {
      "cell_type": "code",
      "metadata": {
        "id": "fNWCaF1aRwQc",
        "colab_type": "code",
        "outputId": "33d3c20c-b568-45a8-af52-15a1e7622908",
        "colab": {
          "base_uri": "https://localhost:8080/",
          "height": 345
        }
      },
      "source": [
        "# Making the Confusion Matrix\n",
        "from sklearn.metrics import confusion_matrix\n",
        "#print(confusion_matrix(y_test,predictions))\n",
        "cnf_matrix_rf = metrics.confusion_matrix(y_test, rfc_pred)\n",
        "# create heatmap\n",
        "sns.heatmap(pd.DataFrame(cnf_matrix_rf), annot=True, cmap=\"YlGnBu\" ,fmt='g')\n",
        "\n",
        "plt.tight_layout()\n",
        "plt.title('Confusion matrix for Random Forest', y=1.1)\n",
        "plt.ylabel('Actual label')\n",
        "plt.xlabel('Predicted label')\n",
        "print(\"Model Accuracy for Random Forest:\",metrics.accuracy_score(y_test, y_pred)  * 100)"
      ],
      "execution_count": 0,
      "outputs": [
        {
          "output_type": "stream",
          "text": [
            "Model Accuracy for Random Forest: 55.37109375\n"
          ],
          "name": "stdout"
        },
        {
          "output_type": "display_data",
          "data": {
            "image/png": "[encoded data removed]",
            "text/plain": [
              "<Figure size 432x288 with 2 Axes>"
            ]
          },
          "metadata": {
            "tags": []
          }
        }
      ]
    },
    {
      "cell_type": "markdown",
      "metadata": {
        "id": "zG_fGc_uI6vW",
        "colab_type": "text"
      },
      "source": [
        "**ROC Curve**"
      ]
    },
    {
      "cell_type": "code",
      "metadata": {
        "colab_type": "code",
        "outputId": "5896ccec-9ea4-42e8-f274-d1755dc70bfd",
        "id": "YGP4QJ5bR-x7",
        "colab": {
          "base_uri": "https://localhost:8080/",
          "height": 295
        }
      },
      "source": [
        "get_roc(y_test,rfc_pred)"
      ],
      "execution_count": 0,
      "outputs": [
        {
          "output_type": "display_data",
          "data": {
            "image/png": "[encoded data removed]",
            "text/plain": [
              "<Figure size 432x288 with 1 Axes>"
            ]
          },
          "metadata": {
            "tags": []
          }
        }
      ]
    },
    {
      "cell_type": "markdown",
      "metadata": {
        "id": "9rc--W0EI8u-",
        "colab_type": "text"
      },
      "source": [
        "**K-Fold Cross validation**"
      ]
    },
    {
      "cell_type": "code",
      "metadata": {
        "id": "BBP0w92FSQvY",
        "colab_type": "code",
        "outputId": "35d56373-8d8d-451e-fe83-f5f5b4a983e8",
        "colab": {
          "base_uri": "https://localhost:8080/",
          "height": 35
        }
      },
      "source": [
        "# Applying k-Fold Cross Validation\n",
        "from sklearn.model_selection import cross_val_score\n",
        "accuracies = cross_val_score(estimator = rfc, X = X_train, y = y_train, cv = 10)\n",
        "accuracies.mean()"
      ],
      "execution_count": 0,
      "outputs": [
        {
          "output_type": "execute_result",
          "data": {
            "text/plain": [
              "0.5324652632834397"
            ]
          },
          "metadata": {
            "tags": []
          },
          "execution_count": 43
        }
      ]
    },
    {
      "cell_type": "markdown",
      "metadata": {
        "id": "cxeLe1tgVKkV",
        "colab_type": "text"
      },
      "source": [
        "### **XGBoost**"
      ]
    },
    {
      "cell_type": "markdown",
      "metadata": {
        "id": "xwiGE2M6JF7a",
        "colab_type": "text"
      },
      "source": [
        "**Train the XGBoost model**"
      ]
    },
    {
      "cell_type": "code",
      "metadata": {
        "id": "8wuH2HwMVNDy",
        "colab_type": "code",
        "outputId": "83b926f2-e791-403d-867d-c0f562b435ad",
        "colab": {
          "base_uri": "https://localhost:8080/",
          "height": 141
        }
      },
      "source": [
        "# Fitting XGBoost to the Training set\n",
        "from xgboost import XGBClassifier\n",
        "xgclassifier = XGBClassifier()\n",
        "xgclassifier.fit(X_train, y_train)"
      ],
      "execution_count": 0,
      "outputs": [
        {
          "output_type": "execute_result",
          "data": {
            "text/plain": [
              "XGBClassifier(base_score=0.5, booster='gbtree', colsample_bylevel=1,\n",
              "              colsample_bynode=1, colsample_bytree=1, gamma=0,\n",
              "              learning_rate=0.1, max_delta_step=0, max_depth=3,\n",
              "              min_child_weight=1, missing=None, n_estimators=100, n_jobs=1,\n",
              "              nthread=None, objective='binary:logistic', random_state=0,\n",
              "              reg_alpha=0, reg_lambda=1, scale_pos_weight=1, seed=None,\n",
              "              silent=None, subsample=1, verbosity=1)"
            ]
          },
          "metadata": {
            "tags": []
          },
          "execution_count": 44
        }
      ]
    },
    {
      "cell_type": "markdown",
      "metadata": {
        "id": "C6wd5G7gJI1J",
        "colab_type": "text"
      },
      "source": [
        "**Predict on unseen data**"
      ]
    },
    {
      "cell_type": "code",
      "metadata": {
        "id": "LFVRZ73-VR0C",
        "colab_type": "code",
        "colab": {}
      },
      "source": [
        "# Predicting the Test set results\n",
        "xg_pred = xgclassifier.predict(X_test)"
      ],
      "execution_count": 0,
      "outputs": []
    },
    {
      "cell_type": "markdown",
      "metadata": {
        "id": "gOVzsrwhJMxO",
        "colab_type": "text"
      },
      "source": [
        "**Print Confusion matrix and Accuracy Score**"
      ]
    },
    {
      "cell_type": "code",
      "metadata": {
        "id": "usRuHgrxVU1a",
        "colab_type": "code",
        "outputId": "840cf572-aa5e-4cc3-9273-904868d5ad54",
        "colab": {
          "base_uri": "https://localhost:8080/",
          "height": 70
        }
      },
      "source": [
        "# Making the Confusion Matrix\n",
        "from sklearn.metrics import confusion_matrix\n",
        "cm = confusion_matrix(y_test, xg_pred)\n",
        "print(cm)\n",
        "print(\"Model Accuracy for XGBoost:\",metrics.accuracy_score(y_test, xg_pred))"
      ],
      "execution_count": 0,
      "outputs": [
        {
          "output_type": "stream",
          "text": [
            "[[  52  840]\n",
            " [  62 1094]]\n",
            "Model Accuracy for XGBoost: 0.5595703125\n"
          ],
          "name": "stdout"
        }
      ]
    },
    {
      "cell_type": "markdown",
      "metadata": {
        "id": "4aH5OSfhJRBb",
        "colab_type": "text"
      },
      "source": [
        "**Classification Report**"
      ]
    },
    {
      "cell_type": "code",
      "metadata": {
        "id": "-QlT8hQRVYT9",
        "colab_type": "code",
        "outputId": "ca81bfc2-41e9-4cae-fea8-f6f8ed4e4af6",
        "colab": {
          "base_uri": "https://localhost:8080/",
          "height": 177
        }
      },
      "source": [
        "print(classification_report(y_test,xg_pred))"
      ],
      "execution_count": 0,
      "outputs": [
        {
          "output_type": "stream",
          "text": [
            "              precision    recall  f1-score   support\n",
            "\n",
            "           0       0.46      0.06      0.10       892\n",
            "           1       0.57      0.95      0.71      1156\n",
            "\n",
            "    accuracy                           0.56      2048\n",
            "   macro avg       0.51      0.50      0.41      2048\n",
            "weighted avg       0.52      0.56      0.44      2048\n",
            "\n"
          ],
          "name": "stdout"
        }
      ]
    },
    {
      "cell_type": "markdown",
      "metadata": {
        "id": "GVLWb6A3VfRa",
        "colab_type": "text"
      },
      "source": [
        "**Plot the feature importance and weight determination**"
      ]
    },
    {
      "cell_type": "code",
      "metadata": {
        "id": "No7YLRKeVg3c",
        "colab_type": "code",
        "colab": {}
      },
      "source": [
        "feature_imp = xgclassifier.feature_importances_"
      ],
      "execution_count": 0,
      "outputs": []
    },
    {
      "cell_type": "code",
      "metadata": {
        "id": "pK-mHC4bVmN_",
        "colab_type": "code",
        "outputId": "520c77a0-78dc-4cb0-8839-ae6f9a8a885d",
        "colab": {
          "base_uri": "https://localhost:8080/",
          "height": 350
        }
      },
      "source": [
        "feats = {} # a dict to hold feature_name: feature_importance\n",
        "\n",
        "for feature, importance in zip(X.columns, xgclassifier.feature_importances_):\n",
        "    feats[feature] = importance #add the name/value pair \n",
        "importances = pd.DataFrame.from_dict(feats, orient='index').rename(columns={0: 'Gini-importance'})\n",
        "ax = importances.sort_values(by='Gini-importance').plot(kind='bar', rot=45)\n",
        "for p in ax.patches:\n",
        "    ax.annotate(str(np.round(p.get_height(),decimals=2)), (p.get_x(), p.get_height()))"
      ],
      "execution_count": 0,
      "outputs": [
        {
          "output_type": "display_data",
          "data": {
            "image/png": "[encoded data removed]",
            "text/plain": [
              "<Figure size 432x288 with 1 Axes>"
            ]
          },
          "metadata": {
            "tags": []
          }
        }
      ]
    },
    {
      "cell_type": "markdown",
      "metadata": {
        "id": "b33o3HiOJW98",
        "colab_type": "text"
      },
      "source": [
        "**Accuracy Score**"
      ]
    },
    {
      "cell_type": "code",
      "metadata": {
        "id": "veuKBnTWVq0R",
        "colab_type": "code",
        "outputId": "45accb8d-d49f-486d-f330-9d0eaa68a078",
        "colab": {
          "base_uri": "https://localhost:8080/",
          "height": 35
        }
      },
      "source": [
        "#from sklearn.metrics import accuracy_score \n",
        "print (\"Accuracy : \", metrics.accuracy_score(y_test,xg_pred)*100)"
      ],
      "execution_count": 0,
      "outputs": [
        {
          "output_type": "stream",
          "text": [
            "Accuracy :  55.95703125\n"
          ],
          "name": "stdout"
        }
      ]
    },
    {
      "cell_type": "markdown",
      "metadata": {
        "id": "MHZhTilKJan6",
        "colab_type": "text"
      },
      "source": [
        "**Plot the Confusion matrix**"
      ]
    },
    {
      "cell_type": "code",
      "metadata": {
        "id": "uJYDuzN8Vuq5",
        "colab_type": "code",
        "outputId": "25fa4d9c-b870-497f-fc2a-2ccbbed034a9",
        "colab": {
          "base_uri": "https://localhost:8080/",
          "height": 345
        }
      },
      "source": [
        "# Making the Confusion Matrix\n",
        "cm = confusion_matrix(y_test, xg_pred)\n",
        "#print(cm)\n",
        "# create heatmap\n",
        "sns.heatmap(pd.DataFrame(cm), annot=True, cmap=\"YlGnBu\" ,fmt='g')\n",
        "\n",
        "plt.tight_layout()\n",
        "plt.title('Confusion matrix for XGBoost', y=1.1)\n",
        "plt.ylabel('Actual label')\n",
        "plt.xlabel('Predicted label')\n",
        "print(\"Model Accuracy for XGBoost:\",metrics.accuracy_score(y_test, xg_pred) * 100)"
      ],
      "execution_count": 0,
      "outputs": [
        {
          "output_type": "stream",
          "text": [
            "Model Accuracy for XGBoost: 55.95703125\n"
          ],
          "name": "stdout"
        },
        {
          "output_type": "display_data",
          "data": {
            "image/png": "[encoded data removed]",
            "text/plain": [
              "<Figure size 432x288 with 2 Axes>"
            ]
          },
          "metadata": {
            "tags": []
          }
        }
      ]
    },
    {
      "cell_type": "markdown",
      "metadata": {
        "id": "8QUPe2VOJdbU",
        "colab_type": "text"
      },
      "source": [
        "**ROC Curve**"
      ]
    },
    {
      "cell_type": "code",
      "metadata": {
        "id": "NXvRSGmlVzP4",
        "colab_type": "code",
        "outputId": "2d3a0f16-ea4d-466c-ce4a-d32662c16ba1",
        "colab": {
          "base_uri": "https://localhost:8080/",
          "height": 295
        }
      },
      "source": [
        "get_roc(y_test,xg_pred)"
      ],
      "execution_count": 0,
      "outputs": [
        {
          "output_type": "display_data",
          "data": {
            "image/png": "[encoded data removed]",
            "text/plain": [
              "<Figure size 432x288 with 1 Axes>"
            ]
          },
          "metadata": {
            "tags": []
          }
        }
      ]
    },
    {
      "cell_type": "markdown",
      "metadata": {
        "id": "zsOEYRbOZ64N",
        "colab_type": "text"
      },
      "source": [
        "## **Calculate the Polynomial equation**"
      ]
    },
    {
      "cell_type": "code",
      "metadata": {
        "id": "7b_wl3qWayaS",
        "colab_type": "code",
        "colab": {}
      },
      "source": [
        "factors = ['Credibility Fact Checks', 'Controversy Score','Context', 'Source Credibility']"
      ],
      "execution_count": 0,
      "outputs": []
    },
    {
      "cell_type": "markdown",
      "metadata": {
        "id": "f_zE606TJmlk",
        "colab_type": "text"
      },
      "source": [
        "**Code block to calculate the Polynomial equation**"
      ]
    },
    {
      "cell_type": "markdown",
      "metadata": {
        "id": "zJ8R1FEvKrH0",
        "colab_type": "text"
      },
      "source": [
        "Since XGBoost has the highest accuracy, we will use XGBoost Gini-importance for weight determination of polynomial equation. The below code considers the feature importances (weight) calculated by XGBoost classifier and outputs the consolidated polynomial equation for all factors."
      ]
    },
    {
      "cell_type": "code",
      "metadata": {
        "id": "0YCYV-vdZ-6M",
        "colab_type": "code",
        "outputId": "d1fe5336-0579-4652-e6a2-a13c03aef311",
        "colab": {
          "base_uri": "https://localhost:8080/",
          "height": 124
        }
      },
      "source": [
        "equation =  \"Y = \"\n",
        "i = 0;\n",
        "for x in feature_imp:            #Considering feature importances from XGBoost algorithm\n",
        "  #equation = equation + \" + (\" + factors[i] + \"*\" + str(round(x, 2)) + \")\"\n",
        "  equation = equation + str(round(x, 2)) + \"*\" + \"(\" + factors[i] + \")\" + \" + \"\n",
        "  i = i + 1\n",
        "  \n",
        "\n",
        "i = 0\n",
        "print(equation)\n",
        "print(\"Feature Importances:\")\n",
        "for x in feature_imp:\n",
        "  print(factors[i], \":\", round(x, 2))\n",
        "  i = i + 1"
      ],
      "execution_count": 0,
      "outputs": [
        {
          "output_type": "stream",
          "text": [
            "Y = 0.19*(Credibility Fact Checks) + 0.31*(Controversy Score) + 0.3*(Context) + 0.2*(Source Credibility) + \n",
            "Feature Importances:\n",
            "Credibility Fact Checks : 0.19\n",
            "Controversy Score : 0.31\n",
            "Context : 0.3\n",
            "Source Credibility : 0.2\n"
          ],
          "name": "stdout"
        }
      ]
    },
    {
      "cell_type": "markdown",
      "metadata": {
        "id": "n29jbpNaWcJJ",
        "colab_type": "text"
      },
      "source": [
        "Our hypothesis for polynomial equation can be visualized as above. Ideally, models internally construct equation and predict accordingly.\n",
        "\n",
        "y = a1(Credibility Fact Checks) + a2(Controversy Score) + a3(Context) + a4(Source Credibility)\n",
        "Our accuracies for the models are as follows. As XGBoost has the highest accuracy we will use XGBoost Gini-importance for weight.\n",
        "\n",
        "Logistic Regression - 56.44%\n",
        "\n",
        "Decision Tree - 56.29%\n",
        "\n",
        "Random Forest - 56.34%\n",
        "\n",
        "XGBoost - 56.49%\n",
        "\n",
        "Thus, the Polynomial equation based on non-scalar factors is:\n",
        "\n",
        "**0.19 * (Credibility Fact Checks) + 0.31 * (Controversy Score) + 0.30 * (Context) + 0.2 * (Source Credibility)**\n"
      ]
    }
  ]
}